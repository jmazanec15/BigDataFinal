{
 "cells": [
  {
   "cell_type": "markdown",
   "metadata": {},
   "source": [
    "    ***Dissecting Ted***\n",
    "    **Computational Analysis of Big Data Final Project**\n",
    "    *Jack Mazanec, Morgan Hogenmiller, Valerie Huang*"
   ]
  },
  {
   "cell_type": "markdown",
   "metadata": {},
   "source": [
    "**Overview**"
   ]
  },
  {
   "cell_type": "markdown",
   "metadata": {},
   "source": [
    "Outline the data source, what questions we will be answering, and any other relevant information"
   ]
  },
  {
   "cell_type": "markdown",
   "metadata": {},
   "source": [
    "**Actual Code**"
   ]
  },
  {
   "cell_type": "markdown",
   "metadata": {},
   "source": [
    "Format Data"
   ]
  },
  {
   "cell_type": "code",
   "execution_count": 3,
   "metadata": {},
   "outputs": [
    {
     "data": {
      "text/plain": [
       "3.0"
      ]
     },
     "execution_count": 3,
     "metadata": {},
     "output_type": "execute_result"
    }
   ],
   "source": [
    "from afinn import Afinn\n",
    "from matplotlib import pyplot as plt\n",
    "\n",
    "# this is an example on sentiment analysis\n",
    "afinn = Afinn(emoticons=True)\n",
    "afinn.score('This is utterly excellent!')"
   ]
  },
  {
   "cell_type": "code",
   "execution_count": 4,
   "metadata": {},
   "outputs": [
    {
     "name": "stdout",
     "output_type": "stream",
     "text": [
      "There are 2467 talks\n",
      "[163.0, 91.0, 139.0, 130.0, 93.0, 160.0, 119.0, 38.0, 240.0, 184.0]\n"
     ]
    }
   ],
   "source": [
    "import pandas as pd\n",
    "\n",
    "# read in the two csv files\n",
    "ted_main = pd.read_csv('data/ted_main.csv')\n",
    "scripts = pd.read_csv('data/transcripts.csv')\n",
    "\n",
    "# get the column \"transcripts\" from transcripts.csv\n",
    "# print how many talks\n",
    "transcripts = scripts[\"transcript\"]\n",
    "length = len(transcripts)\n",
    "print \"There are \" + str(length) + \" talks\"\n",
    "\n",
    "# get list of the senti-scores of first ten talks based on transcripts\n",
    "scores=[]\n",
    "for i in range(0, 10):\n",
    "    talk_score=afinn.score(transcripts[i])\n",
    "    scores.append(talk_score)\n",
    "print scores"
   ]
  },
  {
   "cell_type": "code",
   "execution_count": 5,
   "metadata": {},
   "outputs": [
    {
     "name": "stdout",
     "output_type": "stream",
     "text": [
      "['2006-02-25', '2006-02-25', '2006-02-24', '2006-02-26', '2006-02-22', '2006-02-02', '2006-02-24', '2006-02-23', '2006-02-02', '2006-02-25']\n",
      "['2006-06-27', '2006-06-27', '2006-06-27', '2006-06-27', '2006-06-27', '2006-06-27', '2006-07-10', '2006-07-10', '2006-07-18', '2006-07-18']\n"
     ]
    }
   ],
   "source": [
    "import datetime\n",
    "\n",
    "unix_film_dates = ted_main[\"film_date\"]\n",
    "unix_publish_dates = ted_main[\"published_date\"]\n",
    "\n",
    "# get list of the readable filmed dates of first ten talks based on unix timestamp\n",
    "filmDate=[]\n",
    "for i in range(0, 10):\n",
    "    real_filmdate=datetime.datetime.fromtimestamp(int(unix_film_dates[i])).strftime('%Y-%m-%d')\n",
    "    filmDate.append(real_filmdate)\n",
    "print filmDate\n",
    "\n",
    "# get list of the readable published dates of first ten talks based on unix timestamp\n",
    "publishDate=[]\n",
    "for i in range(0, 10):\n",
    "    real_publishdate=datetime.datetime.fromtimestamp(int(unix_publish_dates[i])).strftime('%Y-%m-%d')\n",
    "    publishDate.append(real_publishdate)\n",
    "print publishDate\n"
   ]
  },
  {
   "cell_type": "markdown",
   "metadata": {},
   "source": [
    "Is there a trend in sentinement of talks throughout the talks duration/ Are Ted talks always positive"
   ]
  },
  {
   "cell_type": "markdown",
   "metadata": {},
   "source": [
    "Is there a trend in sentiment for specific topics over years?"
   ]
  },
  {
   "cell_type": "markdown",
   "metadata": {},
   "source": [
    " What topics are talked about most each year?"
   ]
  },
  {
   "cell_type": "markdown",
   "metadata": {},
   "source": [
    "What’re the most common words in Ted talks? (word clouds)"
   ]
  },
  {
   "cell_type": "markdown",
   "metadata": {},
   "source": [
    "What tags generate the most views?"
   ]
  },
  {
   "cell_type": "code",
   "execution_count": null,
   "metadata": {
    "collapsed": true
   },
   "outputs": [],
   "source": [
    "    "
   ]
  },
  {
   "cell_type": "markdown",
   "metadata": {},
   "source": [
    "Is there a formula for getting a lot of views?"
   ]
  },
  {
   "cell_type": "markdown",
   "metadata": {},
   "source": [
    "Recommendation based on preferences -- separate program"
   ]
  }
 ],
 "metadata": {
  "kernelspec": {
   "display_name": "Python 2",
   "language": "python",
   "name": "python2"
  },
  "language_info": {
   "codemirror_mode": {
    "name": "ipython",
    "version": 2
   },
   "file_extension": ".py",
   "mimetype": "text/x-python",
   "name": "python",
   "nbconvert_exporter": "python",
   "pygments_lexer": "ipython2",
   "version": "2.7.14"
  }
 },
 "nbformat": 4,
 "nbformat_minor": 2
}
