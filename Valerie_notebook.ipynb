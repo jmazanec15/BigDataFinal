{
 "cells": [
  {
   "cell_type": "code",
   "execution_count": 25,
   "metadata": {},
   "outputs": [
    {
     "data": {
      "text/plain": [
       "3.0"
      ]
     },
     "execution_count": 25,
     "metadata": {},
     "output_type": "execute_result"
    }
   ],
   "source": [
    "from afinn import Afinn\n",
    "import matplotlib.pyplot as plt\n",
    "\n",
    "# this is an example on sentiment analysis\n",
    "afinn = Afinn(emoticons=True)\n",
    "afinn.score('This is utterly excellent!')"
   ]
  },
  {
   "cell_type": "code",
   "execution_count": 32,
   "metadata": {},
   "outputs": [
    {
     "name": "stdout",
     "output_type": "stream",
     "text": [
      "There are 2467 talks\n",
      "[163.0, 91.0, 139.0, 130.0, 93.0, 160.0, 119.0, 38.0, 240.0, 184.0]\n"
     ]
    }
   ],
   "source": [
    "import pandas as pd\n",
    "\n",
    "# read in the two csv files\n",
    "ted_main = pd.read_csv('data/ted_main.csv')\n",
    "scripts = pd.read_csv('data/transcripts.csv')\n",
    "\n",
    "# get the column \"transcripts\" from transcripts.csv\n",
    "# print how many talks\n",
    "transcripts = scripts[\"transcript\"]\n",
    "length = len(transcripts)\n",
    "print \"There are \" + str(length) + \" talks\"\n",
    "\n",
    "# get list of the senti-scores of first ten talks based on transcripts\n",
    "scores=[]\n",
    "for i in range(0, 10):\n",
    "    talk_score=afinn.score(transcripts[i])\n",
    "    scores.append(talk_score)\n",
    "print scores\n",
    "    \n",
    "    \n",
    "\n"
   ]
  },
  {
   "cell_type": "code",
   "execution_count": 34,
   "metadata": {},
   "outputs": [
    {
     "name": "stdout",
     "output_type": "stream",
     "text": [
      "['2006-02-25', '2006-02-25', '2006-02-24', '2006-02-26', '2006-02-22', '2006-02-02', '2006-02-24', '2006-02-23', '2006-02-02', '2006-02-25']\n",
      "['2006-06-27', '2006-06-27', '2006-06-27', '2006-06-27', '2006-06-27', '2006-06-27', '2006-07-10', '2006-07-10', '2006-07-18', '2006-07-18']\n"
     ]
    }
   ],
   "source": [
    "import datetime\n",
    "\n",
    "unix_film_dates = ted_main[\"film_date\"]\n",
    "unix_publish_dates = ted_main[\"published_date\"]\n",
    "\n",
    "# get list of the readable filmed dates of first ten talks based on unix timestamp\n",
    "filmDate=[]\n",
    "for i in range(0, 10):\n",
    "    real_filmdate=datetime.datetime.fromtimestamp(int(unix_film_dates[i])).strftime('%Y-%m-%d')\n",
    "    filmDate.append(real_filmdate)\n",
    "print filmDate\n",
    "\n",
    "# get list of the readable published dates of first ten talks based on unix timestamp\n",
    "publishDate=[]\n",
    "for i in range(0, 10):\n",
    "    real_publishdate=datetime.datetime.fromtimestamp(int(unix_publish_dates[i])).strftime('%Y-%m-%d')\n",
    "    publishDate.append(real_publishdate)\n",
    "print publishDate\n"
   ]
  },
  {
   "cell_type": "code",
   "execution_count": null,
   "metadata": {
    "collapsed": true
   },
   "outputs": [],
   "source": []
  }
 ],
 "metadata": {
  "kernelspec": {
   "display_name": "Python 2",
   "language": "python",
   "name": "python2"
  },
  "language_info": {
   "codemirror_mode": {
    "name": "ipython",
    "version": 2
   },
   "file_extension": ".py",
   "mimetype": "text/x-python",
   "name": "python",
   "nbconvert_exporter": "python",
   "pygments_lexer": "ipython2",
   "version": "2.7.14"
  }
 },
 "nbformat": 4,
 "nbformat_minor": 2
}
